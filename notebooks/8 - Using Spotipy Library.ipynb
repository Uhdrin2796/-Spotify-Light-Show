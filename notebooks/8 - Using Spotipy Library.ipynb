{
 "cells": [
  {
   "cell_type": "code",
   "execution_count": 1,
   "id": "4e9cd6dd",
   "metadata": {},
   "outputs": [],
   "source": [
    "import spotipy #Spotify Web API wrapper for python\n",
    "from spotipy.oauth2 import SpotifyClientCredentials #Auth\n",
    "import pandas as pd #Dataframe\n",
    "import time #Pause execution of loops"
   ]
  },
  {
   "cell_type": "code",
   "execution_count": 2,
   "id": "cc922957",
   "metadata": {},
   "outputs": [],
   "source": [
    "client_id = \"11ff7112cf044de8bb8626fb93505bbc\"\n",
    "client_secret = \"551ab8978f3d4ea5a1c57ce762373ae7\""
   ]
  },
  {
   "cell_type": "code",
   "execution_count": 3,
   "id": "938a5e0e",
   "metadata": {},
   "outputs": [],
   "source": [
    "auth_manager = SpotifyClientCredentials(client_id = client_id, client_secret = client_secret) #Set up Auth for client"
   ]
  },
  {
   "cell_type": "code",
   "execution_count": 4,
   "id": "6c2a4899",
   "metadata": {},
   "outputs": [],
   "source": [
    "sp = spotipy.Spotify(auth_manager = auth_manager)\n",
    "track_uri = 'spotify:track:1SFA5zEVOsLhEg7ynbvQFT'"
   ]
  },
  {
   "cell_type": "code",
   "execution_count": 5,
   "id": "150f18e8",
   "metadata": {},
   "outputs": [
    {
     "data": {
      "text/plain": [
       "[{'danceability': 0.478,\n",
       "  'energy': 0.769,\n",
       "  'key': 5,\n",
       "  'loudness': -5.092,\n",
       "  'mode': 1,\n",
       "  'speechiness': 0.0448,\n",
       "  'acousticness': 0.168,\n",
       "  'instrumentalness': 0,\n",
       "  'liveness': 0.156,\n",
       "  'valence': 0.157,\n",
       "  'tempo': 155.998,\n",
       "  'type': 'audio_features',\n",
       "  'id': '1SFA5zEVOsLhEg7ynbvQFT',\n",
       "  'uri': 'spotify:track:1SFA5zEVOsLhEg7ynbvQFT',\n",
       "  'track_href': 'https://api.spotify.com/v1/tracks/1SFA5zEVOsLhEg7ynbvQFT',\n",
       "  'analysis_url': 'https://api.spotify.com/v1/audio-analysis/1SFA5zEVOsLhEg7ynbvQFT',\n",
       "  'duration_ms': 224615,\n",
       "  'time_signature': 4}]"
      ]
     },
     "execution_count": 5,
     "metadata": {},
     "output_type": "execute_result"
    }
   ],
   "source": [
    "track_info = sp.track(track_uri)\n",
    "track_features = sp.audio_features(track_uri)\n",
    "track_features"
   ]
  },
  {
   "cell_type": "code",
   "execution_count": 6,
   "id": "c44eea06",
   "metadata": {},
   "outputs": [
    {
     "data": {
      "text/plain": [
       "['name',\n",
       " 'album',\n",
       " 'artist',\n",
       " 'release_date',\n",
       " 'length',\n",
       " 'popularity',\n",
       " 'acousticness',\n",
       " 'danceability',\n",
       " 'energy',\n",
       " 'instrumentalness',\n",
       " 'liveness',\n",
       " 'loudness',\n",
       " 'speechiness',\n",
       " 'tempo',\n",
       " 'time_signature']"
      ]
     },
     "execution_count": 6,
     "metadata": {},
     "output_type": "execute_result"
    }
   ],
   "source": [
    "#Track Info\n",
    "name = track_info['name']\n",
    "album = track_info['album']['name']\n",
    "artist = track_info['album']['artists'][0]['name']\n",
    "release_date = track_info['album']['release_date']\n",
    "length = track_info['duration_ms']\n",
    "popularity = track_info['popularity']\n",
    "\n",
    "#Track Features\n",
    "acousticness = track_features[0]['acousticness']\n",
    "danceability = track_features[0]['danceability']\n",
    "energy = track_features[0]['energy']\n",
    "instrumentalness = track_features[0]['instrumentalness']\n",
    "liveness = track_features[0]['liveness']\n",
    "loudness = track_features[0]['loudness']\n",
    "speechiness = track_features[0]['speechiness']\n",
    "tempo = track_features[0]['tempo']\n",
    "time_signature = track_features[0]['time_signature']\n",
    "\n",
    "track = [name, album, artist, release_date, length, popularity, acousticness, danceability, energy, instrumentalness,\n",
    "         liveness, loudness, speechiness, tempo, time_signature]\n",
    "track_columns = ['name', 'album', 'artist', 'release_date', 'length', 'popularity', 'acousticness', 'danceability', 'energy',\n",
    "                 'instrumentalness', 'liveness', 'loudness', 'speechiness', 'tempo', 'time_signature']\n",
    "track_columns"
   ]
  },
  {
   "cell_type": "code",
   "execution_count": 7,
   "id": "cdda5c90",
   "metadata": {},
   "outputs": [
    {
     "data": {
      "text/plain": [
       "[['Luv Me A Little',\n",
       "  'Luv Me A Little',\n",
       "  'ILLENIUM',\n",
       "  '2023-01-20',\n",
       "  224615,\n",
       "  69,\n",
       "  0.168,\n",
       "  0.478,\n",
       "  0.769,\n",
       "  0,\n",
       "  0.156,\n",
       "  -5.092,\n",
       "  0.0448,\n",
       "  155.998,\n",
       "  4]]"
      ]
     },
     "execution_count": 7,
     "metadata": {},
     "output_type": "execute_result"
    }
   ],
   "source": [
    "df = pd.DataFrame(track).T.values.tolist() #Transpose Dataframe to list\n",
    "df"
   ]
  },
  {
   "cell_type": "code",
   "execution_count": 9,
   "id": "f1854ac4",
   "metadata": {},
   "outputs": [
    {
     "data": {
      "text/html": [
       "<div>\n",
       "<style scoped>\n",
       "    .dataframe tbody tr th:only-of-type {\n",
       "        vertical-align: middle;\n",
       "    }\n",
       "\n",
       "    .dataframe tbody tr th {\n",
       "        vertical-align: top;\n",
       "    }\n",
       "\n",
       "    .dataframe thead th {\n",
       "        text-align: right;\n",
       "    }\n",
       "</style>\n",
       "<table border=\"1\" class=\"dataframe\">\n",
       "  <thead>\n",
       "    <tr style=\"text-align: right;\">\n",
       "      <th></th>\n",
       "      <th>name</th>\n",
       "      <th>album</th>\n",
       "      <th>artist</th>\n",
       "      <th>release_date</th>\n",
       "      <th>length</th>\n",
       "      <th>popularity</th>\n",
       "      <th>acousticness</th>\n",
       "      <th>danceability</th>\n",
       "      <th>energy</th>\n",
       "      <th>instrumentalness</th>\n",
       "      <th>liveness</th>\n",
       "      <th>loudness</th>\n",
       "      <th>speechiness</th>\n",
       "      <th>tempo</th>\n",
       "      <th>time_signature</th>\n",
       "    </tr>\n",
       "  </thead>\n",
       "  <tbody>\n",
       "    <tr>\n",
       "      <th>0</th>\n",
       "      <td>Luv Me A Little</td>\n",
       "      <td>Luv Me A Little</td>\n",
       "      <td>ILLENIUM</td>\n",
       "      <td>2023-01-20</td>\n",
       "      <td>224615</td>\n",
       "      <td>69</td>\n",
       "      <td>0.168</td>\n",
       "      <td>0.478</td>\n",
       "      <td>0.769</td>\n",
       "      <td>0</td>\n",
       "      <td>0.156</td>\n",
       "      <td>-5.092</td>\n",
       "      <td>0.0448</td>\n",
       "      <td>155.998</td>\n",
       "      <td>4</td>\n",
       "    </tr>\n",
       "  </tbody>\n",
       "</table>\n",
       "</div>"
      ],
      "text/plain": [
       "              name            album    artist release_date  length  \\\n",
       "0  Luv Me A Little  Luv Me A Little  ILLENIUM   2023-01-20  224615   \n",
       "\n",
       "   popularity  acousticness  danceability  energy  instrumentalness  liveness  \\\n",
       "0          69         0.168         0.478   0.769                 0     0.156   \n",
       "\n",
       "   loudness  speechiness    tempo  time_signature  \n",
       "0    -5.092       0.0448  155.998               4  "
      ]
     },
     "execution_count": 9,
     "metadata": {},
     "output_type": "execute_result"
    }
   ],
   "source": [
    "df_final = pd.DataFrame(df, columns = track_columns)\n",
    "df_final"
   ]
  },
  {
   "cell_type": "code",
   "execution_count": null,
   "id": "4578f6ef",
   "metadata": {},
   "outputs": [],
   "source": []
  }
 ],
 "metadata": {
  "kernelspec": {
   "display_name": "Python 3 (ipykernel)",
   "language": "python",
   "name": "python3"
  },
  "language_info": {
   "codemirror_mode": {
    "name": "ipython",
    "version": 3
   },
   "file_extension": ".py",
   "mimetype": "text/x-python",
   "name": "python",
   "nbconvert_exporter": "python",
   "pygments_lexer": "ipython3",
   "version": "3.10.4"
  }
 },
 "nbformat": 4,
 "nbformat_minor": 5
}
